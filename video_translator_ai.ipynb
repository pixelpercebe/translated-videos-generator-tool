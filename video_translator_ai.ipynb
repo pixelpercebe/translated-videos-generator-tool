{
  "nbformat": 4,
  "nbformat_minor": 0,
  "metadata": {
    "colab": {
      "provenance": [],
      "toc_visible": true,
      "mount_file_id": "1RrDCm5p6U9U5omkOMdzcfMwLpY7VMwG1",
      "authorship_tag": "ABX9TyOUfU3sZ8x1eZg7vqf9B4i5",
      "include_colab_link": true
    },
    "kernelspec": {
      "name": "python3",
      "display_name": "Python 3"
    },
    "language_info": {
      "name": "python"
    }
  },
  "cells": [
    {
      "cell_type": "markdown",
      "metadata": {
        "id": "view-in-github",
        "colab_type": "text"
      },
      "source": [
        "<a href=\"https://colab.research.google.com/github/pixelpercebe/translated-videos-generator-tool/blob/main/video_translator_ai.ipynb\" target=\"_parent\"><img src=\"https://colab.research.google.com/assets/colab-badge.svg\" alt=\"Open In Colab\"/></a>"
      ]
    },
    {
      "cell_type": "markdown",
      "source": [
        "# Instalar los recursos necesarios ⬇\n"
      ],
      "metadata": {
        "id": "zxbF8ZWhtnhE"
      }
    },
    {
      "cell_type": "code",
      "execution_count": null,
      "metadata": {
        "id": "tlVFiu0ePlaP"
      },
      "outputs": [],
      "source": [
        "!pip install git+https://github.com/openai/whisper.git moviepy\n",
        "!pip install sacremoses\n",
        "!pip install sacremoses\n",
        "!pip install transformers\n",
        "!pip install pydub"
      ]
    },
    {
      "cell_type": "code",
      "source": [
        "from google.colab import drive\n",
        "drive.mount('/content/drive')"
      ],
      "metadata": {
        "id": "4JrJH8qRSl46"
      },
      "execution_count": null,
      "outputs": []
    },
    {
      "cell_type": "markdown",
      "source": [
        "# extraer el audio y generar la transcripcion mediante whisper ✍"
      ],
      "metadata": {
        "id": "x1S1MkAht7xV"
      }
    },
    {
      "cell_type": "code",
      "source": [
        "import whisper\n",
        "\n",
        "# Cargar el modelo\n",
        "modelo = whisper.load_model(\"large-v3\")\n"
      ],
      "metadata": {
        "id": "QVwXvu-OSDGL"
      },
      "execution_count": null,
      "outputs": []
    },
    {
      "cell_type": "code",
      "source": [
        "# Asegúrate de cambiar \"audio_extraido.mp3\" por tu archivo de audio\n",
        "resultado = modelo.transcribe(\"audio_extraido.mp3\", verbose=True)"
      ],
      "metadata": {
        "id": "0_tX3tiGVhTz"
      },
      "execution_count": null,
      "outputs": []
    },
    {
      "cell_type": "code",
      "source": [
        "ruta_archivo = \"transcripcion_videos.txt\"\n",
        "# Analizar los segmentos para identificar pausas y transcripción\n",
        "with open(ruta_archivo, \"w\") as archivo:\n",
        "  for segmento in resultado[\"segments\"]:\n",
        "    inicio = segmento[\"start\"]\n",
        "    fin = segmento[\"end\"]\n",
        "    texto = segmento[\"text\"]\n",
        "    archivo.write(f\"Marca de tiempo: {inicio} a {fin}, Texto: {texto}\")"
      ],
      "metadata": {
        "id": "Rsj9-6HOcBNy"
      },
      "execution_count": null,
      "outputs": []
    },
    {
      "cell_type": "markdown",
      "source": [
        "#**Elegimos el idioma y generamos la traduccion del video.** 📔"
      ],
      "metadata": {
        "id": "YKGj9ah_qphP"
      }
    },
    {
      "cell_type": "code",
      "source": [
        "# @markdown ##Selecciona tu idioma:\n",
        "# @markdown + en -> English\n",
        "# @markdown + ara -> Arab\n",
        "# @markdown + ru -> Russian\n",
        "idioma = \"ru\" # @param [\"en\", \"ara\", \"ru\"]\n",
        "from transformers import MarianMTModel, MarianTokenizer\n",
        "# Determinar el modelo basado en el idioma seleccionado\n",
        "print(f\"Idioma seleccionado: {idioma}\")\n",
        "if idioma == 'ara':\n",
        "    modelo_id = \"Helsinki-NLP/opus-mt-es-ar\"\n",
        "    token_idioma = \">>ara<<\"\n",
        "elif idioma == 'en':\n",
        "    modelo_id = \"Helsinki-NLP/opus-mt-es-en\"\n",
        "    token_idioma = \">>en<<\"\n",
        "elif idioma == 'ru':\n",
        "    modelo_id = \"Helsinki-NLP/opus-mt-es-ru\"\n",
        "    token_idioma = \">>ru<<\"\n",
        "\n",
        "tokenizer = MarianTokenizer.from_pretrained(modelo_id)\n",
        "model = MarianMTModel.from_pretrained(modelo_id)\n",
        "\n",
        "\n",
        "\n",
        "\n"
      ],
      "metadata": {
        "id": "JJ_qcxOIZ9pA"
      },
      "execution_count": null,
      "outputs": []
    },
    {
      "cell_type": "code",
      "source": [
        "# Texto en español que deseas traducir\n",
        "# Define el path al archivo de entrada\n",
        "ruta_archivo_entrada = \"transcripcion_videos.txt\"\n",
        "duracion_video = \"Duracion.txt\"\n",
        "\n",
        "# Inicializa una variable para almacenar el texto modificado\n",
        "texto_modificado = \"\"\n",
        "\n",
        "# Abre el archivo de entrada para leer\n",
        "with open(ruta_archivo_entrada, 'r', encoding='utf-8') as archivo_entrada:\n",
        "    for linea in archivo_entrada:\n",
        "        # Encuentra el inicio del texto después de \"Texto: \"\n",
        "        inicio_texto = linea.find(\"Texto: \")\n",
        "        if inicio_texto != -1:\n",
        "            # Extrae solo el texto después de \"Texto: \"\n",
        "            texto = linea[inicio_texto + 7:]  # 7 es la longitud de \"Texto: \"\n",
        "            # Añade el token de identificación de idioma al principio del texto extraído\n",
        "            texto_modificado += token_idioma + texto\n",
        "            texto_antes = linea[:inicio_texto]\n",
        "            with open(duracion_video, 'w', encoding='utf-8') as archivo_salida:\n",
        "              archivo_salida.write(texto_antes)\n",
        "\n",
        "# Traducción\n",
        "entrada_tokenizada = tokenizer(texto_modificado, return_tensors=\"pt\", padding=True)\n",
        "traduccion_output = model.generate(**entrada_tokenizada)\n",
        "texto_traducido = tokenizer.decode(traduccion_output[0], skip_special_tokens=True)\n",
        "\n",
        "print(f\"Texto traducido al {idioma}:\", texto_traducido)\n",
        "\n",
        "ruta_traduccion = \"traduccion_video.txt\"\n",
        "\n",
        "with open(ruta_traduccion, \"w\") as archivo_tr:\n",
        "  archivo_tr.write(texto_traducido)"
      ],
      "metadata": {
        "id": "uRzpYzeQXLE9"
      },
      "execution_count": null,
      "outputs": []
    },
    {
      "cell_type": "markdown",
      "source": [
        "#**Utilizamos la API de Google text to speech para generar voz.** 🔊"
      ],
      "metadata": {
        "id": "eLVw9DQaqWgs"
      }
    },
    {
      "cell_type": "code",
      "source": [
        "ruta_archivo_traducido = \"traduccion_video.txt\"  # Cambia esto por la ruta real de tu archivo\n",
        "\n",
        "with open(ruta_archivo_traducido, 'r', encoding='utf-8') as archivo:\n",
        "    texto_traducido = archivo.read()\n"
      ],
      "metadata": {
        "id": "_OnsrqnkrnRg"
      },
      "execution_count": null,
      "outputs": []
    },
    {
      "cell_type": "code",
      "source": [
        "from gtts import gTTS\n",
        "\n",
        "# Convertir el texto en audio\n",
        "if idioma == 'ara':\n",
        "  idioma = 'ar'\n",
        "tts = gTTS(text=texto_traducido, lang = idioma)  # Asegúrate de usar el código de idioma correcto ('es' para español, 'en' para inglés, etc.)\n",
        "\n",
        "# Guardar el archivo de audio\n",
        "ruta_archivo_audio = \"audio_traducido.mp3\"  # Puedes cambiar el nombre del archivo según necesites\n",
        "tts.save(ruta_archivo_audio)\n"
      ],
      "metadata": {
        "id": "aTGaOtimrsWe"
      },
      "execution_count": null,
      "outputs": []
    },
    {
      "cell_type": "code",
      "source": [
        "from moviepy.editor import AudioFileClip\n",
        "from pydub import AudioSegment\n",
        "# Cargar el archivo de audio original\n",
        "audio_original = AudioSegment.from_file(\"audio_traducido.mp3\")\n",
        "\n",
        "# Duración deseada en milisegundos (por ejemplo, para hacer que el audio tenga una duración de 2 minutos)\n",
        "#TODO hay que cambiar esto para que obtenga la duracion guardada en la transcripcion del audio.\n",
        "duracion_deseada_ms = 14.80 * 1000\n",
        "\n",
        "# Calcular el factor de cambio de velocidad\n",
        "factor_cambio = duracion_deseada_ms / len(audio_original)\n",
        "\n",
        "# Ajustar la velocidad del audio (esto no cambia el pitch)\n",
        "audio_ajustado = audio_original.speedup(playback_speed=factor_cambio)\n",
        "\n",
        "# Guardar el audio ajustado\n",
        "audio_ajustado.export(\"audio_traducido_ajustado.mp3\", format=\"mp3\")\n"
      ],
      "metadata": {
        "id": "_n2zaNUFF2v2"
      },
      "execution_count": null,
      "outputs": []
    },
    {
      "cell_type": "code",
      "source": [
        "\n",
        "video_clip = VideoFileClip(\"/content/drive/MyDrive/videos/2024-03-11 14-58-12.mp4\")\n",
        "audio_clip = AudioFileClip(\"audio_traducido_ajustado.mp3\")"
      ],
      "metadata": {
        "id": "pp7InP7pI22F"
      },
      "execution_count": null,
      "outputs": []
    },
    {
      "cell_type": "code",
      "source": [
        "# Reemplazar el audio del video con el nuevo audio\n",
        "# Esto asumirá que el audio debe comenzar al mismo tiempo que el video.\n",
        "# Si el audio es más largo que el video, se cortará para que coincida con la duración del video.\n",
        "video_final = video_clip.set_audio(audio_clip)"
      ],
      "metadata": {
        "id": "r3S-lWxKGT9Y"
      },
      "execution_count": null,
      "outputs": []
    },
    {
      "cell_type": "code",
      "source": [
        "# Exportar el video final\n",
        "video_final.write_videofile(\"video_final.mp4\")\n"
      ],
      "metadata": {
        "id": "BmHi75rNGjy0"
      },
      "execution_count": null,
      "outputs": []
    }
  ]
}